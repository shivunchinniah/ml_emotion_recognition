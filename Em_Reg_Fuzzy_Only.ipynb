{
 "cells": [
  {
   "cell_type": "code",
   "execution_count": 8,
   "id": "3c1ebf9b",
   "metadata": {},
   "outputs": [],
   "source": [
    "\n",
    "# -------------------------------\n",
    "# Imports & configuration\n",
    "# -------------------------------\n",
    "import os, time, warnings\n",
    "from pathlib import Path\n",
    "import numpy as np\n",
    "import pandas as pd\n",
    "\n",
    "from sklearn.feature_selection import VarianceThreshold\n",
    "from sklearn.preprocessing import StandardScaler\n",
    "from sklearn.decomposition import PCA\n",
    "from sklearn.metrics import accuracy_score, f1_score, balanced_accuracy_score, classification_report, confusion_matrix\n",
    "from imblearn.over_sampling import SMOTE\n",
    "from skimage.feature import hog\n",
    "\n",
    "import matplotlib.pyplot as plt\n",
    "import seaborn as sns\n",
    "\n",
    "warnings.filterwarnings(\"ignore\")\n",
    "\n",
    "# Paths\n",
    "DATA_CSV = \"data/fer2013.csv\"     # put the Kaggle CSV here\n",
    "ARTIFACTS = Path(\"artifacts\"); ARTIFACTS.mkdir(exist_ok=True)\n",
    "MODELS = Path(\"models\"); MODELS.mkdir(exist_ok=True)\n",
    "\n",
    "# Fast defaults (tweak here if needed)\n",
    "RANDOM_STATE = 42\n",
    "SUBSAMPLE_PER_CLASS = 800   # keep it balanced and small; set 0 to disable undersampling\n",
    "AUG_FLIP = False            # True = add a flipped copy of each TRAIN image (slower, sometimes helps)\n",
    "SMOTE_STAGE = \"after_pca\"   # \"before_pca\" | \"after_pca\" | None\n",
    "FUZZY_PCA_GRID = [12]       # keep single value for speed; try [8,12,16] if you have time\n",
    "FUZZY_CLUS_GRID = [8]       # fewer clusters = faster & more stable\n",
    "\n",
    "# For pretty printing timings\n",
    "def tic(): return time.perf_counter()\n",
    "def toc(t0, name):\n",
    "    dt = time.perf_counter() - t0\n",
    "    print(f\"[{name}] {dt:.2f}s\")\n",
    "    return dt\n",
    "\n",
    "# Labels\n",
    "emotion_labels = {\n",
    "    0: \"angry\", 1: \"disgust\", 2: \"fear\", 3: \"happy\", 4: \"sad\", 5: \"surprise\", 6: \"neutral\"\n",
    "}\n",
    "label_names = [emotion_labels[k] for k in sorted(emotion_labels.keys())]\n",
    "np.random.seed(RANDOM_STATE)\n"
   ]
  },
  {
   "cell_type": "markdown",
   "id": "6f40cde2",
   "metadata": {},
   "source": [
    "\n",
    "## Load FER2013 CSV & Basic Stats\n",
    "We use the Kaggle single‑CSV version with columns: `emotion`, `pixels`, `Usage`.\n"
   ]
  },
  {
   "cell_type": "code",
   "execution_count": 9,
   "id": "1c0e88fc",
   "metadata": {},
   "outputs": [
    {
     "name": "stdout",
     "output_type": "stream",
     "text": [
      "Training       28709\n",
      "PublicTest      3589\n",
      "PrivateTest     3589\n",
      "Name: Usage, dtype: int64\n",
      "0    4953\n",
      "1     547\n",
      "2    5121\n",
      "3    8989\n",
      "4    6077\n",
      "5    4002\n",
      "6    6198\n",
      "Name: emotion, dtype: int64\n"
     ]
    }
   ],
   "source": [
    "\n",
    "# Load CSV\n",
    "assert Path(DATA_CSV).exists(), f\"CSV not found: {DATA_CSV}. Download from Kaggle and place it here.\"\n",
    "\n",
    "df = pd.read_csv(DATA_CSV)\n",
    "assert set(['emotion','pixels','Usage']).issubset(df.columns), \"Unexpected CSV format. Expect columns: emotion, pixels, Usage\"\n",
    "\n",
    "def parse_pixels(row):\n",
    "    arr = np.fromstring(row, dtype=np.uint8, sep=' ')\n",
    "    return arr.reshape(48,48)\n",
    "\n",
    "df['img'] = df['pixels'].apply(parse_pixels)\n",
    "df['label'] = df['emotion'].astype(int)\n",
    "\n",
    "print(df['Usage'].value_counts())\n",
    "print(df['emotion'].value_counts().sort_index())\n"
   ]
  },
  {
   "cell_type": "markdown",
   "id": "16847192",
   "metadata": {},
   "source": [
    "\n",
    "## Balanced Subset (Train only) & Simple Augmentation\n",
    "To keep fuzzy stable and runtime low, we train on a **balanced subset** (cap per class) and optionally **flip** training images horizontally.\n"
   ]
  },
  {
   "cell_type": "code",
   "execution_count": 10,
   "id": "3b7d4b19",
   "metadata": {},
   "outputs": [
    {
     "name": "stdout",
     "output_type": "stream",
     "text": [
      "Train rows (balanced cap): 5236  Val: 3589  Test: 3589\n"
     ]
    }
   ],
   "source": [
    "\n",
    "from collections import Counter\n",
    "\n",
    "def show_counts(name, y):\n",
    "    c = Counter(y); print(name, dict(sorted(c.items())))\n",
    "\n",
    "def balanced_subset(df_train, per_class, seed=42):\n",
    "    if not per_class or per_class <= 0:\n",
    "        return df_train.reset_index(drop=True)\n",
    "    parts = []\n",
    "    classes = sorted(df_train['emotion'].unique())\n",
    "    for c in classes:\n",
    "        dfc = df_train[df_train['emotion']==c]\n",
    "        take = min(len(dfc), per_class)\n",
    "        parts.append(dfc.sample(take, random_state=seed))\n",
    "    return pd.concat(parts).reset_index(drop=True)\n",
    "\n",
    "# Splits\n",
    "df_tr_full = df[df['Usage']==\"Training\"].reset_index(drop=True)\n",
    "df_va      = df[df['Usage']==\"PublicTest\"].reset_index(drop=True)\n",
    "df_te      = df[df['Usage']==\"PrivateTest\"].reset_index(drop=True)\n",
    "\n",
    "# Balanced small train set\n",
    "df_tr = balanced_subset(df_tr_full, SUBSAMPLE_PER_CLASS)\n",
    "\n",
    "print(\"Train rows (balanced cap):\", len(df_tr), \" Val:\", len(df_va), \" Test:\", len(df_te))\n"
   ]
  },
  {
   "cell_type": "markdown",
   "id": "7d71b1f1",
   "metadata": {},
   "source": [
    "\n",
    "## HOG Features (Cached)\n",
    "HOG is compact and fast, and works well at 48×48. We cache features to avoid recomputation between runs.\n"
   ]
  },
  {
   "cell_type": "code",
   "execution_count": 11,
   "id": "a13fa684",
   "metadata": {},
   "outputs": [
    {
     "name": "stdout",
     "output_type": "stream",
     "text": [
      "[HOG train] 0.15s\n",
      "[HOG val+test] 0.17s\n",
      "Train (pre-SMOTE) {0: 800, 1: 436, 2: 800, 3: 800, 4: 800, 5: 800, 6: 800}\n",
      "Val {0: 467, 1: 56, 2: 496, 3: 895, 4: 653, 5: 415, 6: 607}\n",
      "Test {0: 491, 1: 55, 2: 528, 3: 879, 4: 594, 5: 416, 6: 626}\n"
     ]
    },
    {
     "data": {
      "text/plain": [
       "((5236, 900), (3589, 900), (3589, 900))"
      ]
     },
     "execution_count": 11,
     "metadata": {},
     "output_type": "execute_result"
    }
   ],
   "source": [
    "\n",
    "HOG_PARAMS = dict(\n",
    "    orientations=9, \n",
    "    pixels_per_cell=(8,8), \n",
    "    cells_per_block=(2,2), \n",
    "    block_norm='L2-Hys', \n",
    "    transform_sqrt=True\n",
    ")\n",
    "\n",
    "def extract_hog(img48):\n",
    "    if img48.ndim == 3: img48 = img48[...,0]\n",
    "    imgf = img48.astype(np.float32) / 255.0\n",
    "    return hog(imgf, **HOG_PARAMS)\n",
    "\n",
    "def build_hog_features(subdf, cache_prefix, augment_flip=False):\n",
    "    # Separate caches so you can switch strategies without mixing\n",
    "    suffix = \"_flip\" if augment_flip else \"\"\n",
    "    cache = ARTIFACTS / f\"{cache_prefix}_hog_only{suffix}.npz\"\n",
    "    if cache.exists():\n",
    "        data = np.load(cache, allow_pickle=True)\n",
    "        return data[\"X\"], data[\"y\"]\n",
    "\n",
    "    X_list, y_list = [], []\n",
    "    for img, lab in zip(subdf['img'].values, subdf['label'].values):\n",
    "        X_list.append(extract_hog(img));            y_list.append(int(lab))\n",
    "        if augment_flip:\n",
    "            X_list.append(extract_hog(np.fliplr(img))); y_list.append(int(lab))\n",
    "\n",
    "    X = np.vstack(X_list).astype(np.float32)\n",
    "    y = np.array(y_list, dtype=int)\n",
    "    np.savez_compressed(cache, X=X, y=y)\n",
    "    return X, y\n",
    "\n",
    "# Build features (train flip optional; val/test never augmented)\n",
    "t0 = tic()\n",
    "X_train_raw, y_train = build_hog_features(df_tr, \"train_fuzzy\", augment_flip=AUG_FLIP)\n",
    "toc(t0, \"HOG train\")\n",
    "t0 = tic()\n",
    "X_val_raw,   y_val   = build_hog_features(df_va, \"val_fuzzy\",   augment_flip=False)\n",
    "X_test_raw,  y_test  = build_hog_features(df_te, \"test_fuzzy\",  augment_flip=False)\n",
    "toc(t0, \"HOG val+test\")\n",
    "\n",
    "show_counts(\"Train (pre-SMOTE)\", y_train)\n",
    "show_counts(\"Val\", y_val)\n",
    "show_counts(\"Test\", y_test)\n",
    "\n",
    "X_train_raw.shape, X_val_raw.shape, X_test_raw.shape\n"
   ]
  },
  {
   "cell_type": "markdown",
   "id": "992ab477",
   "metadata": {},
   "source": [
    "\n",
    "## Cleaning & Standardisation\n",
    "- **VarianceThreshold** to drop near-constant features  \n",
    "- **Correlation pruning** (|r|≥0.95) to remove redundancy  \n",
    "- **StandardScaler** fit on train only\n"
   ]
  },
  {
   "cell_type": "code",
   "execution_count": 12,
   "id": "3aced094",
   "metadata": {},
   "outputs": [
    {
     "name": "stdout",
     "output_type": "stream",
     "text": [
      "[Clean + Standardise + Clip] 0.49s\n"
     ]
    },
    {
     "data": {
      "text/plain": [
       "((5236, 828), (3589, 828), (3589, 828))"
      ]
     },
     "execution_count": 12,
     "metadata": {},
     "output_type": "execute_result"
    }
   ],
   "source": [
    "# --- Cleaning & Standardisation (with 3σ clipping) ---\n",
    "from sklearn.feature_selection import VarianceThreshold\n",
    "from sklearn.preprocessing import StandardScaler\n",
    "import numpy as np\n",
    "\n",
    "def correlation_prune(X, threshold=0.95):\n",
    "    if X.shape[1] <= 1:\n",
    "        return np.ones(X.shape[1], dtype=bool)\n",
    "    corr = np.corrcoef(X, rowvar=False)\n",
    "    to_drop = set()\n",
    "    for i in range(corr.shape[0]):\n",
    "        if i in to_drop: \n",
    "            continue\n",
    "        for j in range(i+1, corr.shape[1]):\n",
    "            if abs(corr[i,j]) >= threshold:\n",
    "                to_drop.add(j)\n",
    "    keep = np.ones(corr.shape[0], dtype=bool)\n",
    "    if to_drop:\n",
    "        keep[list(to_drop)] = False\n",
    "    return keep\n",
    "\n",
    "t0 = tic()\n",
    "var_sel = VarianceThreshold(threshold=1e-5)\n",
    "Xtr_v = var_sel.fit_transform(X_train_raw)\n",
    "Xva_v = var_sel.transform(X_val_raw)\n",
    "Xte_v = var_sel.transform(X_test_raw)\n",
    "\n",
    "keep_mask = correlation_prune(Xtr_v, threshold=0.95)\n",
    "Xtr_c = Xtr_v[:, keep_mask]\n",
    "Xva_c = Xva_v[:, keep_mask]\n",
    "Xte_c = Xte_v[:, keep_mask]\n",
    "\n",
    "scaler = StandardScaler()\n",
    "Xtr_s = scaler.fit_transform(Xtr_c)\n",
    "Xva_s = scaler.transform(Xva_c)\n",
    "Xte_s = scaler.transform(Xte_c)\n",
    "\n",
    "# ⬇️ CRUCIAL: clip standardised features to a bounded universe (prevents “universal set” MFs)\n",
    "CLIP_STD = 3.0               # keep values within [-3σ, +3σ]\n",
    "Xtr_s = np.clip(Xtr_s, -CLIP_STD, CLIP_STD)\n",
    "Xva_s = np.clip(Xva_s, -CLIP_STD, CLIP_STD)\n",
    "Xte_s = np.clip(Xte_s, -CLIP_STD, CLIP_STD)\n",
    "\n",
    "toc(t0, \"Clean + Standardise + Clip\")\n",
    "Xtr_s.shape, Xva_s.shape, Xte_s.shape\n"
   ]
  },
  {
   "cell_type": "markdown",
   "id": "6c3c86d9",
   "metadata": {},
   "source": [
    "\n",
    "## Fuzzy TSK (pyFUME) with Conservative Simplification\n",
    "pyFUME sometimes **over-simplifies** membership functions on whitened PCA signals.  \n",
    "We **relax** simplification so fuzzy sets are not removed aggressively.\n"
   ]
  },
  {
   "cell_type": "code",
   "execution_count": 13,
   "id": "57f390d3",
   "metadata": {},
   "outputs": [],
   "source": [
    "# --- Fuzzy TSK (pyFUME) with conservative/disabled simplification ---\n",
    "class FuzzyTSKClassifier:\n",
    "    def __init__(self, nr_clusters=6, process_categorical=False,\n",
    "                 merge_threshold=1.0, remove_flat_threshold=1.01, setnes_threshold=1.0,\n",
    "                 model_order=\"zero\", random_state=42):\n",
    "        self.nr_clusters = nr_clusters\n",
    "        self.process_categorical = process_categorical\n",
    "        self.merge_threshold = merge_threshold\n",
    "        self.remove_flat_threshold = remove_flat_threshold\n",
    "        self.setnes_threshold = setnes_threshold\n",
    "        self.model_order = model_order\n",
    "        self.random_state = random_state\n",
    "        self._pyf = None\n",
    "        self._model = None\n",
    "\n",
    "    def fit(self, X, y):\n",
    "        try:\n",
    "            from pyfume.pyfume import pyFUME as PyFUMEBuilder\n",
    "        except Exception as e:\n",
    "            raise ImportError(\"pyFUME not available. Use numpy==1.24.4, pyfume, simpful.\") from e\n",
    "        import pandas as pd\n",
    "        X = np.asarray(X, dtype=float)\n",
    "        y = np.asarray(y, dtype=int)\n",
    "        feat_names = [f\"x{i+1}\" for i in range(X.shape[1])]\n",
    "        df = pd.DataFrame(X, columns=feat_names)\n",
    "        df[\"OUTPUT\"] = y\n",
    "        # Pass conservative thresholds + zero-order model\n",
    "        self._pyf = PyFUMEBuilder(\n",
    "            dataframe=df,\n",
    "            nr_clus=self.nr_clusters,\n",
    "            process_categorical=self.process_categorical,\n",
    "            merge_threshold=self.merge_threshold,\n",
    "            remove_flat_threshold=self.remove_flat_threshold,\n",
    "            setnes_threshold=self.setnes_threshold,\n",
    "            model_order=self.model_order,                 # ⬅️ zero-order\n",
    "            variable_names=feat_names + [\"OUTPUT\"],\n",
    "        )\n",
    "        self._model = self._pyf.get_model()\n",
    "        return self\n",
    "\n",
    "    def predict(self, X):\n",
    "        X = np.asarray(X, dtype=float)\n",
    "        return np.asarray(self._pyf.predict_label(X), dtype=int)\n"
   ]
  },
  {
   "cell_type": "markdown",
   "id": "8f6bfad2",
   "metadata": {},
   "source": [
    "\n",
    "## Train & Evaluate (fast defaults)\n",
    "- Single PCA dim (12) and cluster count (8) → fast.  \n",
    "- **SMOTE** applied **after PCA** by default (keeps PCA fit on real data).  \n",
    "- Prints timing and metrics; saves the PKL bundle.\n"
   ]
  },
  {
   "cell_type": "code",
   "execution_count": 15,
   "id": "545086a6",
   "metadata": {},
   "outputs": [
    {
     "name": "stdout",
     "output_type": "stream",
     "text": [
      " * Detected 0 categorical variables.\n",
      "['x1' 'x2' 'x3' 'x4' 'x5' 'x6' 'x7' 'x8']\n",
      "[PCA/SMOTE/fit/predict (p=8, k=6, smote=before_pca)] 45.96s\n",
      "[Fuzzy] p=8, k=6, smote=before_pca → Val Acc=0.2494 BalAcc=0.1429 Macro-F1=0.0570\n",
      "\\nChosen config: (8, 6, 'before_pca') Val Macro-F1: 0.05702816362941251\n"
     ]
    }
   ],
   "source": [
    "from sklearn.decomposition import PCA\n",
    "from imblearn.over_sampling import SMOTE\n",
    "\n",
    "# Fast & robust defaults\n",
    "FUZZY_PCA_GRID = [8]     # smaller dims → tighter sets\n",
    "FUZZY_CLUS_GRID = [6]    # fewer clusters → faster, stabler\n",
    "SMOTE_STAGE = \"before_pca\"   # safer for pyFUME than after_pca\n",
    "\n",
    "best_combo = None\n",
    "best_val_f1 = -1.0\n",
    "best_bundle = None\n",
    "\n",
    "def try_fit_once(p, k, smote_stage):\n",
    "    # Build PCA (no whitening — avoids overly wide MFs)\n",
    "    pca_f = PCA(n_components=p, svd_solver=\"randomized\", whiten=False, random_state=RANDOM_STATE)\n",
    "\n",
    "    if smote_stage == \"before_pca\":\n",
    "        sm = SMOTE(random_state=RANDOM_STATE)\n",
    "        Xtr_smote_pre, ytr_smote_pre = sm.fit_resample(Xtr_s, y_train) # (N_smote, 828)\n",
    "        \n",
    "        # Fit PCA on SMOTEd data\n",
    "        Xtr_processed = pca_f.fit_transform(Xtr_smote_pre) # (N_smote, p)\n",
    "        ytr_processed = ytr_smote_pre\n",
    "        \n",
    "        # Transform val/test using the same PCA\n",
    "        Xva_p = pca_f.transform(Xva_s)\n",
    "        Xte_p = pca_f.transform(Xte_s)\n",
    "        \n",
    "    elif smote_stage == \"after_pca\":\n",
    "        # Fit PCA on *original* train data\n",
    "        Xtr_p = pca_f.fit_transform(Xtr_s) # (N_orig, p)\n",
    "        Xva_p = pca_f.transform(Xva_s)\n",
    "        Xte_p = pca_f.transform(Xte_s)\n",
    "        \n",
    "        # SMOTE *after* PCA\n",
    "        sm = SMOTE(random_state=RANDOM_STATE)\n",
    "        Xtr_processed, ytr_processed = sm.fit_resample(Xtr_p, y_train) # (N_smote, p)\n",
    "    \n",
    "    else: # No SMOTE\n",
    "        # Fit PCA on *original* train data\n",
    "        Xtr_processed = pca_f.fit_transform(Xtr_s) # (N_orig, p)\n",
    "        ytr_processed = y_train\n",
    "        Xva_p = pca_f.transform(Xva_s)\n",
    "        Xte_p = pca_f.transform(Xte_s)\n",
    "\n",
    "    # --- THIS IS THE FIX ---\n",
    "    # Now, fit on the correct processed data (which always has 'p' dimensions)\n",
    "    clf = FuzzyTSKClassifier(nr_clusters=k)\n",
    "    clf.fit(Xtr_processed, ytr_processed) \n",
    "    \n",
    "    # Predict on the transformed val/test sets\n",
    "    yv = clf.predict(Xva_p)\n",
    "    yt = clf.predict(Xte_p)\n",
    "    return pca_f, clf, Xva_p, Xte_p, yv, yt\n",
    "\n",
    "# Try primary config; if pyFUME still complains, try safer fallbacks automatically\n",
    "TRIALS = [\n",
    "    dict(p=8, k=6, sm=\"before_pca\"),\n",
    "    dict(p=8, k=4, sm=\"before_pca\"),\n",
    "    dict(p=6, k=4, sm=\"before_pca\"),\n",
    "    dict(p=8, k=4, sm=None),\n",
    "]\n",
    "\n",
    "for trial in TRIALS:\n",
    "    p, k, sm = trial[\"p\"], trial[\"k\"], trial[\"sm\"]\n",
    "    t1 = tic()\n",
    "    try:\n",
    "        pca_f, clf, Xva_p, Xte_p, yv, yt = try_fit_once(p, k, sm)\n",
    "        acc_v = accuracy_score(y_val, yv)\n",
    "        f1m   = f1_score(y_val, yv, average='macro')\n",
    "        bacc  = balanced_accuracy_score(y_val, yv)\n",
    "        toc(t1, f\"PCA/SMOTE/fit/predict (p={p}, k={k}, smote={sm})\")\n",
    "        print(f\"[Fuzzy] p={p}, k={k}, smote={sm} → Val Acc={acc_v:.4f} BalAcc={bacc:.4f} Macro-F1={f1m:.4f}\")\n",
    "        best_combo = (p, k, sm)\n",
    "        best_val_f1 = f1m\n",
    "        best_bundle = dict(pca=pca_f, clf=clf, Xva=Xva_p, Xte=Xte_p, yv=yv, yt=yt)\n",
    "        break\n",
    "    except Exception as e:\n",
    "        print(f\"[WARN] Trial failed (p={p}, k={k}, smote={sm}): {e}\")\n",
    "\n",
    "if best_bundle is None:\n",
    "    raise RuntimeError(\"All fuzzy trials failed. Try reducing SUBSAMPLE_PER_CLASS or check pyFUME install.\")\n",
    "\n",
    "print(\"\\\\nChosen config:\", best_combo, \"Val Macro-F1:\", best_val_f1)\n"
   ]
  },
  {
   "cell_type": "markdown",
   "id": "083217b1",
   "metadata": {},
   "source": [
    "\n",
    "## Final Metrics & Confusion Matrices\n"
   ]
  },
  {
   "cell_type": "code",
   "execution_count": 17,
   "id": "58b63855",
   "metadata": {},
   "outputs": [
    {
     "name": "stdout",
     "output_type": "stream",
     "text": [
      "=== Fuzzy TSK — PublicTest ===\n",
      "Acc=0.2494  BalAcc=0.1429  Macro-F1=0.0570\n",
      "              precision    recall  f1-score   support\n",
      "\n",
      "       angry       0.00      0.00      0.00       467\n",
      "     disgust       0.00      0.00      0.00        56\n",
      "        fear       0.00      0.00      0.00       496\n",
      "       happy       0.25      1.00      0.40       895\n",
      "         sad       0.00      0.00      0.00       653\n",
      "    surprise       0.00      0.00      0.00       415\n",
      "     neutral       0.00      0.00      0.00       607\n",
      "\n",
      "    accuracy                           0.25      3589\n",
      "   macro avg       0.04      0.14      0.06      3589\n",
      "weighted avg       0.06      0.25      0.10      3589\n",
      "\n",
      "=== Fuzzy TSK — PrivateTest ===\n",
      "Acc=0.2449  BalAcc=0.1429  Macro-F1=0.0562\n",
      "              precision    recall  f1-score   support\n",
      "\n",
      "       angry       0.00      0.00      0.00       491\n",
      "     disgust       0.00      0.00      0.00        55\n",
      "        fear       0.00      0.00      0.00       528\n",
      "       happy       0.24      1.00      0.39       879\n",
      "         sad       0.00      0.00      0.00       594\n",
      "    surprise       0.00      0.00      0.00       416\n",
      "     neutral       0.00      0.00      0.00       626\n",
      "\n",
      "    accuracy                           0.24      3589\n",
      "   macro avg       0.03      0.14      0.06      3589\n",
      "weighted avg       0.06      0.24      0.10      3589\n",
      "\n"
     ]
    },
    {
     "data": {
      "image/png": "[encoded data removed]",
      "text/plain": [
       "<Figure size 700x600 with 2 Axes>"
      ]
     },
     "metadata": {},
     "output_type": "display_data"
    },
    {
     "data": {
      "image/png": "[encoded data removed]",
      "text/plain": [
       "<Figure size 700x600 with 2 Axes>"
      ]
     },
     "metadata": {},
     "output_type": "display_data"
    }
   ],
   "source": [
    "p_best, k_best, sm_best = best_combo\n",
    "pca_f = best_bundle['pca']\n",
    "clf_f = best_bundle['clf']\n",
    "Xva_p = best_bundle['Xva']\n",
    "Xte_p = best_bundle['Xte']\n",
    "yv = best_bundle['yv']\n",
    "yt = best_bundle['yt']\n",
    "\n",
    "val_acc  = accuracy_score(y_val, yv)\n",
    "val_bacc = balanced_accuracy_score(y_val, yv)\n",
    "val_f1   = f1_score(y_val, yv, average='macro')\n",
    "\n",
    "te_acc  = accuracy_score(y_test, yt)\n",
    "te_bacc = balanced_accuracy_score(y_test, yt)\n",
    "te_f1   = f1_score(y_test, yt, average='macro')\n",
    "\n",
    "print(\"=== Fuzzy TSK — PublicTest ===\")\n",
    "print(f\"Acc={val_acc:.4f}  BalAcc={val_bacc:.4f}  Macro-F1={val_f1:.4f}\")\n",
    "print(classification_report(y_val, yv, target_names=label_names))\n",
    "\n",
    "print(\"=== Fuzzy TSK — PrivateTest ===\")\n",
    "print(f\"Acc={te_acc:.4f}  BalAcc={te_bacc:.4f}  Macro-F1={te_f1:.4f}\")\n",
    "print(classification_report(y_test, yt, target_names=label_names))\n",
    "\n",
    "def plot_cm(y_true, y_pred, title):\n",
    "    cm = confusion_matrix(y_true, y_pred, labels=sorted(emotion_labels.keys()), normalize='true') * 100\n",
    "    plt.figure(figsize=(7,6))\n",
    "    sns.heatmap(cm, annot=True, fmt=\".1f\", cmap=\"Purples\",\n",
    "                xticklabels=label_names, yticklabels=label_names)\n",
    "    plt.title(title); plt.xlabel(\"Predicted\"); plt.ylabel(\"True\"); plt.tight_layout(); plt.show()\n",
    "\n",
    "plot_cm(y_val, yv,  f\"Fuzzy TSK — PublicTest (PCA={p_best}, k={k_best}, smote={sm_best})\")\n",
    "plot_cm(y_test, yt, f\"Fuzzy TSK — PrivateTest (PCA={p_best}, k={k_best}, smote={sm_best})\")\n"
   ]
  },
  {
   "cell_type": "markdown",
   "id": "13d161e4",
   "metadata": {},
   "source": [
    "\n",
    "## Save PKL (for the demo)\n",
    "Writes `models/fuzzy_tsfis.pkl` containing scaler, PCA, fuzzy model, labels.\n"
   ]
  },
  {
   "cell_type": "code",
   "execution_count": 18,
   "id": "7686d430",
   "metadata": {},
   "outputs": [
    {
     "name": "stdout",
     "output_type": "stream",
     "text": [
      "Saved: models\\fuzzy_tsfis.pkl\n"
     ]
    }
   ],
   "source": [
    "\n",
    "import joblib\n",
    "bundle = {\n",
    "    \"scaler\": scaler,\n",
    "    \"pca\": pca_f,\n",
    "    \"fuzzy\": clf_f,\n",
    "    \"pca_dims\": p_best,\n",
    "    \"nr_clusters\": k_best,\n",
    "    \"labels\": emotion_labels\n",
    "}\n",
    "out_path = MODELS / \"fuzzy_tsfis.pkl\"\n",
    "joblib.dump(bundle, out_path)\n",
    "print(\"Saved:\", out_path)\n"
   ]
  }
 ],
 "metadata": {
  "kernelspec": {
   "display_name": "fer-fuzzy",
   "language": "python",
   "name": "python3"
  },
  "language_info": {
   "codemirror_mode": {
    "name": "ipython",
    "version": 3
   },
   "file_extension": ".py",
   "mimetype": "text/x-python",
   "name": "python",
   "nbconvert_exporter": "python",
   "pygments_lexer": "ipython3",
   "version": "3.11.14"
  }
 },
 "nbformat": 4,
 "nbformat_minor": 5
}
